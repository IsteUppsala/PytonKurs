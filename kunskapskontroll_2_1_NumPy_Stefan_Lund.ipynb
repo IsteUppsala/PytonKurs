{
 "cells": [
  {
   "cell_type": "markdown",
   "id": "dacf74e6",
   "metadata": {},
   "source": [
    "# NumPy"
   ]
  },
  {
   "cell_type": "markdown",
   "id": "01b2bf34",
   "metadata": {},
   "source": [
    "Read the links: https://numpy.org/doc/stable/user/quickstart.html  and https://numpy.org/doc/stable/user/basics.broadcasting.html  before solving the exercises. "
   ]
  },
  {
   "cell_type": "code",
   "execution_count": 560,
   "id": "1f79e4a6",
   "metadata": {},
   "outputs": [
    {
     "name": "stdout",
     "output_type": "stream",
     "text": [
      "norm v1 [4 3 1 5] = 7.14142842854285\n",
      "norm v1 [4 3 1 5] - v2 [2 3 1 1] = 4.47213595499958\n",
      "###### Uppgift 10.2.1. ######\n",
      "(a) 2A=[[ 4  2 -2]\n",
      " [ 2 -2  2]]\n",
      "#############################\n",
      "(b) B-2A=\n",
      "[[ 0 -4  3]\n",
      " [ 0 -2 -4]]\n",
      "#############################\n",
      "(c) 3C - 2E = \n",
      "[[ 1  2]\n",
      " [ 4 -1]], inte definierad!\n",
      "#############################\n",
      "(d) 2D - 3C = \n",
      "[[3 2]\n",
      " [2 3]]\n",
      "#############################\n",
      "(e) DT + 2D = \n",
      "[[ 9 12]\n",
      " [12  9]]\n",
      "#############################\n",
      "(f) 2CT - 2DT = \n",
      "[[-4 -4]\n",
      " [-4 -4]]\n",
      "#############################\n",
      "(g) Det gick inte AT - B : operands could not be broadcast together with shapes (3,2) (2,3) \n",
      "#############################\n",
      "(h) Det gick inte AC : matmul: Input operand 1 has a mismatch in its core dimension 0, with gufunc signature (n?,k),(k,m?)->(n?,m?) (size 2 is different from 3)\n",
      "#############################\n",
      "(i) CD = \n",
      "[[11 10]\n",
      " [10 11]]\n",
      "#############################\n",
      "(j) CB = \n",
      "[[  8 -10  -3]\n",
      " [ 10  -8   0]]\n",
      "#############################\n",
      "(k) CI = \n",
      "[[1 2]\n",
      " [2 1]]\n",
      "#############################\n",
      "(l) ABT = \n",
      "[[5 2]\n",
      " [7 4]]\n",
      "###### Uppgift 10.2.2. ######\n",
      " AAT= \n",
      "[[29 26]\n",
      " [26 42]]\n",
      "###### Uppgift 10.2.3. ######\n",
      " AB= \n",
      "[[ 4  7]\n",
      " [ 8 14]]\n",
      "AC=\n",
      "[[ 4  7]\n",
      " [ 8 14]]\n",
      " B == C : [[False False]\n",
      " [False False]]\n",
      "Lösningen 10.32 första 3 ekvationerna, x är:[ 0.90322581  0.35483871 -2.12903226]\n",
      "Stämmer lösningen? True\n",
      "Sätt in x i ekvationen, ska resultera i b [ 5 -1  8] : [ 5. -1.  8.]\n",
      "3x − y + z bör bli 3. Men...= -14.677419354838708\n"
     ]
    }
   ],
   "source": [
    "import numpy as np\n",
    "\n",
    "vec = np.array([3, 7, 0, 11])\n",
    "vec.shape\n",
    "v1 = np.array([4, 3, 1 ,5])\n",
    "v2 = np.array([2, 3, 1 ,1])\n",
    "norm = np.linalg.norm(v1)\n",
    "print(f\"norm v1 {v1} = {norm}\")\n",
    "print(f\"norm v1 {v1} - v2 {v2} = {np.linalg.norm(v1 - v2)}\")\n",
    "a = np.array([[2, 1, -1], [1, -1, 1]])\n",
    "b = np.array([[4, -2, 1], [2, -4, -2]])\n",
    "c = np.array([[1, 2], [2, 1]])\n",
    "d = np.array([[3, 4], [4, 3]])\n",
    "e = np.array([1, 2])\n",
    "i = np.array([[1, 0], [0, 1]])\n",
    "\n",
    "print(f\"###### Uppgift 10.2.1. ######\\n(a) 2A={2 * a}\")\n",
    "print(f\"#############################\\n(b) B-2A=\\n{b - (2 * a)}\")\n",
    "print(f\"#############################\\n(c) 3C - 2E = \\n{(3 * c) - (2 * e)}, inte definierad!\")\n",
    "print(f\"#############################\\n(d) 2D - 3C = \\n{(2 * d) - (3 * c)}\")\n",
    "print(f\"#############################\\n(e) DT + 2D = \\n{(d.T) + (2 * d)}\")\n",
    "print(f\"#############################\\n(f) 2CT - 2DT = \\n{(2 * c.T) - (2 * d.T)}\")\n",
    "try:\n",
    "    print(f\"#############################\\n(g) AT - B = \\n{(a.T) - (b)}\")\n",
    "except Exception as e:\n",
    "    print(f\"#############################\\n(g) Det gick inte AT - B : {e}\")\n",
    "try:\n",
    "    print(f\"#############################\\n(h) AC = \\n{(a @ c)}\")  \n",
    "except Exception as e:\n",
    "    print(f\"#############################\\n(h) Det gick inte AC : {e}\")\n",
    "print(f\"#############################\\n(i) CD = \\n{(c @ d)}\") \n",
    "print(f\"#############################\\n(j) CB = \\n{(c @ b)}\") \n",
    "print(f\"#############################\\n(k) CI = \\n{(c @ i)}\") \n",
    "print(f\"#############################\\n(l) ABT = \\n{(a @ b.T)}\") \n",
    "\n",
    "A = np.array([[2, 3, 4], [5, 4, 1]])\n",
    "print(f\"###### Uppgift 10.2.2. ######\\n AAT= \\n{A @ A.T}\")\n",
    "\n",
    "A = np.array([[1, 2], [2, 4]])\n",
    "B = np.array([[2, 1], [1, 3]])\n",
    "C = np.array([[4, 3], [0, 2]])\n",
    "print(f\"###### Uppgift 10.2.3. ######\\n AB= \\n{A @ B}\\nAC=\\n{A @ C}\\n B == C : {B == C}\")\n",
    "\n",
    "A = np.array([[3, 2, 4], [2, 3, 8], [4, 1, 3], [7, 1, 5]])\n",
    "#x = np.array([x1, x2, x3, x4])\n",
    "b = np.array([5, -1, 8, 3, -6])\n",
    "\n",
    "#Exempel 10.32\n",
    "A = np.array([[2, 3, -1], [4, -1, 2], [1, 2, -3]])\n",
    "b = np.array([5, -1, 8])\n",
    "# Lös ekvationssystemet\n",
    "x = np.linalg.solve(A, b)\n",
    "print(f\"Lösningen 10.32 första 3 ekvationerna, x är:{x}\")\n",
    "\n",
    "check = np.allclose(np.dot(A, x), b)\n",
    "print(\"Stämmer lösningen?\", check)\n",
    "\n",
    "ekv4 = np.array([3, -1, 8])\n",
    "print(f\"Sätt in x i ekvationen, ska resultera i b {b} : {A @ x}\")\n",
    "print(f\"3x − y + z bör bli 3. Men...= {ekv4.T @ x}\")\n",
    "\n"
   ]
  },
  {
   "cell_type": "markdown",
   "id": "7dae6889",
   "metadata": {},
   "source": [
    "### Print out the dimension (number of axes), shape, size and the datatype of the matrix A."
   ]
  },
  {
   "cell_type": "code",
   "execution_count": 561,
   "id": "7b3678cd",
   "metadata": {},
   "outputs": [],
   "source": [
    "A = np.arange(1, 16).reshape(3,5)"
   ]
  },
  {
   "cell_type": "code",
   "execution_count": 4,
   "id": "31d39235",
   "metadata": {},
   "outputs": [
    {
     "name": "stdout",
     "output_type": "stream",
     "text": [
      "############################################\n",
      "Matrix:\n",
      "[[ 1  2  3  4  5]\n",
      " [ 6  7  8  9 10]\n",
      " [11 12 13 14 15]]\n",
      "\n",
      "Dimension is:2, shape is:(3, 5), size is:15, Datatype of matrix A is:int32\n"
     ]
    }
   ],
   "source": [
    "import numpy as np\n",
    "A = np.arange(1, 16).reshape(3,5)\n",
    "print(f\"############################################\\nMatrix:\\n{A}\\n\")\n",
    "print(f\"Dimension is:{A.ndim}, shape is:{A.shape}, size is:{A.size}, Datatype of matrix A is:{A.dtype}\")\n"
   ]
  },
  {
   "cell_type": "markdown",
   "id": "e56d2a96",
   "metadata": {},
   "source": [
    "### Do the following computations on the matrices B and C: \n",
    "* Elementwise subtraction. \n",
    "* Elementwise multiplication. \n",
    "* Matrix multiplication (by default you should use the @ operator)."
   ]
  },
  {
   "cell_type": "code",
   "execution_count": 562,
   "id": "a7053fbb",
   "metadata": {},
   "outputs": [
    {
     "name": "stdout",
     "output_type": "stream",
     "text": [
      "[[1 2 3]\n",
      " [4 5 6]\n",
      " [7 8 9]]\n",
      "\n",
      "[[2. 2. 2.]\n",
      " [2. 2. 2.]\n",
      " [2. 2. 2.]]\n"
     ]
    }
   ],
   "source": [
    "B = np.arange(1, 10).reshape(3, 3)\n",
    "C = np.ones((3, 3))*2\n",
    "\n",
    "print(B)\n",
    "print()\n",
    "print(C)"
   ]
  },
  {
   "cell_type": "code",
   "execution_count": 8,
   "id": "3cd794ae",
   "metadata": {},
   "outputs": [
    {
     "name": "stdout",
     "output_type": "stream",
     "text": [
      "B:\n",
      " [[1 2 3]\n",
      " [4 5 6]\n",
      " [7 8 9]]\n",
      "C:\n",
      " [[2. 2. 2.]\n",
      " [2. 2. 2.]\n",
      " [2. 2. 2.]]\n",
      "Elementwise subtraction\n",
      "[[-1.  0.  1.]\n",
      " [ 2.  3.  4.]\n",
      " [ 5.  6.  7.]]\n",
      "Elementwise multiplication:\n",
      "[[ 2.  4.  6.]\n",
      " [ 8. 10. 12.]\n",
      " [14. 16. 18.]]\n",
      "Matrix multiplication:\n",
      "[[12. 12. 12.]\n",
      " [30. 30. 30.]\n",
      " [48. 48. 48.]]\n"
     ]
    }
   ],
   "source": [
    "B = np.arange(1, 10).reshape(3, 3)\n",
    "C = np.ones((3, 3))*2\n",
    "print(\"B:\\n\", B)\n",
    "print(\"C:\\n\", C)\n",
    "print(f\"Elementwise subtraction\\n{B - C}\")\n",
    "print(f\"Elementwise multiplication:\\n{B * C}\")\n",
    "print(f\"Matrix multiplication:\\n{B @ C}\")"
   ]
  },
  {
   "cell_type": "markdown",
   "id": "96030d53",
   "metadata": {},
   "source": [
    "### Do the following calculations on the matrix:\n",
    "* Exponentiate each number elementwise (use the np.exp function).\n",
    "\n",
    "* Calculate the minimum value in the whole matrix. \n",
    "* Calculcate the minimum value in each row. \n",
    "* Calculcate the minimum value in each column. \n",
    "\n",
    "\n",
    "* Find the index value for the minimum value in the whole matrix (hint: use np.argmin).\n",
    "* Find the index value for the minimum value in each row (hint: use np.argmin).\n",
    "\n",
    "\n",
    "* Calculate the sum for all elements.\n",
    "* Calculate the mean for each column. \n",
    "* Calculate the median for each column. "
   ]
  },
  {
   "cell_type": "code",
   "execution_count": 563,
   "id": "f8a9166b",
   "metadata": {},
   "outputs": [
    {
     "name": "stdout",
     "output_type": "stream",
     "text": [
      "[[1 2 3]\n",
      " [4 5 6]\n",
      " [7 8 9]]\n"
     ]
    }
   ],
   "source": [
    "B = np.arange(1, 10).reshape(3, 3)\n",
    "print(B)"
   ]
  },
  {
   "cell_type": "code",
   "execution_count": 10,
   "id": "f03f24f7",
   "metadata": {},
   "outputs": [
    {
     "name": "stdout",
     "output_type": "stream",
     "text": [
      "\n",
      "### Do the following calculations on the matrix:\n",
      "[[1 2 3]\n",
      " [4 5 6]\n",
      " [7 8 9]]   \n",
      "* Exponentiate each number elementwise (use the np.exp function).\n",
      "[[2.71828183e+00 7.38905610e+00 2.00855369e+01]\n",
      " [5.45981500e+01 1.48413159e+02 4.03428793e+02]\n",
      " [1.09663316e+03 2.98095799e+03 8.10308393e+03]]\n",
      "* Calculate the minimum value in the whole matrix. :1\n",
      "* Calculcate the minimum value in each row. [1 4 7]\n",
      "* Calculcate the minimum value in each column. [1 2 3]\n",
      "\n",
      "\n",
      "* Find the index value for the minimum value in the whole matrix (hint: use np.argmin). 0\n",
      "* Find the index value for the minimum value in each row (hint: use np.argmin). [0 0 0]\n",
      "\n",
      "\n",
      "* Calculate the sum for all elements. 45\n",
      "* Calculate the mean for each column. [2. 5. 8.]\n",
      "* Calculate the median for each column. [2. 5. 8.]\n",
      "\n"
     ]
    }
   ],
   "source": [
    "B = np.arange(1, 10).reshape(3, 3)\n",
    "\n",
    "print(f\"\"\"\n",
    "### Do the following calculations on the matrix:\n",
    "{B}   \n",
    "* Exponentiate each number elementwise (use the np.exp function).\n",
    "{np.exp(B)}\n",
    "* Calculate the minimum value in the whole matrix. :{np.min(B)}\n",
    "* Calculcate the minimum value in each row. {np.min(B, axis = 1)}\n",
    "* Calculcate the minimum value in each column. {np.min(B, axis = 0)}\n",
    "\n",
    "\n",
    "* Find the index value for the minimum value in the whole matrix (hint: use np.argmin). {np.argmin(B)}\n",
    "* Find the index value for the minimum value in each row (hint: use np.argmin). {np.argmin(B, axis=1)}\n",
    "\n",
    "\n",
    "* Calculate the sum for all elements. {np.sum(B)}\n",
    "* Calculate the mean for each column. {np.mean(B , axis=1)}\n",
    "* Calculate the median for each column. {np.median(B , axis=1)}\n",
    "\"\"\")"
   ]
  },
  {
   "cell_type": "markdown",
   "id": "541eb7ba",
   "metadata": {},
   "source": [
    "### What does it mean when you provide fewer indices than axes when slicing? See example below."
   ]
  },
  {
   "cell_type": "code",
   "execution_count": 564,
   "id": "9c8abf56",
   "metadata": {},
   "outputs": [
    {
     "name": "stdout",
     "output_type": "stream",
     "text": [
      "[[ 1  2  3  4  5]\n",
      " [ 6  7  8  9 10]\n",
      " [11 12 13 14 15]]\n"
     ]
    }
   ],
   "source": [
    "print(A)"
   ]
  },
  {
   "cell_type": "code",
   "execution_count": 565,
   "id": "69415f7b",
   "metadata": {},
   "outputs": [
    {
     "data": {
      "text/plain": [
       "array([ 6,  7,  8,  9, 10])"
      ]
     },
     "execution_count": 565,
     "metadata": {},
     "output_type": "execute_result"
    }
   ],
   "source": [
    "A[1]"
   ]
  },
  {
   "cell_type": "markdown",
   "id": "6c53541b",
   "metadata": {},
   "source": [
    "**Answer:**"
   ]
  },
  {
   "cell_type": "code",
   "execution_count": 14,
   "id": "de01e120",
   "metadata": {},
   "outputs": [
    {
     "name": "stdout",
     "output_type": "stream",
     "text": [
      "#############################\n",
      "A\n",
      "[[ 1  2  3  4  5]\n",
      " [ 6  7  8  9 10]\n",
      " [11 12 13 14 15]]\n",
      "#############################\n",
      "A[1]\n",
      "[ 6  7  8  9 10]\n",
      "#############################\n",
      "A[1, :]\n",
      "[ 6  7  8  9 10]\n",
      "#############################\n",
      "A[:2,1:3]\n",
      "[[2 3]\n",
      " [7 8]]\n",
      "#############################\n",
      "A[2]\n",
      "[11 12 13 14 15]\n",
      "ANSWER: \n",
      "      If you provide fewer axes then only the axes specified is used.\n",
      "      The missing axes are terated as a complete slice ':'\n",
      "      If you specify the slice it is applied.\n",
      "      \n"
     ]
    }
   ],
   "source": [
    "### What does it mean when you provide fewer indices than axes when slicing? See example below.\n",
    "print(f\"#############################\\nA\\n{A}\")\n",
    "print(f\"#############################\\nA[1]\\n{A[1]}\")\n",
    "print(f\"#############################\\nA[1, :]\\n{A[1, :]}\")\n",
    "print(f\"#############################\\nA[:2,1:3]\\n{A[:2,1:3]}\")\n",
    "print(f\"#############################\\nA[2]\\n{A[2]}\")\n",
    "print(\"\"\"ANSWER: \n",
    "      If you provide fewer axes then only the axes specified are used.\n",
    "      The missing axes are terated as a complete slice ':'\n",
    "      If you specify the slice it is applied.\n",
    "      \"\"\")"
   ]
  },
  {
   "cell_type": "markdown",
   "id": "6652d0c9",
   "metadata": {},
   "source": [
    "### Iterating over multidimensional arrays is done with respect to the first axis, so in the example below we iterate trough the rows. If you would like to iterate through the array *elementwise*, how would you do that?"
   ]
  },
  {
   "cell_type": "code",
   "execution_count": 566,
   "id": "9459864f",
   "metadata": {},
   "outputs": [
    {
     "data": {
      "text/plain": [
       "array([[ 1,  2,  3,  4,  5],\n",
       "       [ 6,  7,  8,  9, 10],\n",
       "       [11, 12, 13, 14, 15]])"
      ]
     },
     "execution_count": 566,
     "metadata": {},
     "output_type": "execute_result"
    }
   ],
   "source": [
    "A"
   ]
  },
  {
   "cell_type": "code",
   "execution_count": 567,
   "id": "a671bb5a",
   "metadata": {},
   "outputs": [
    {
     "name": "stdout",
     "output_type": "stream",
     "text": [
      "[1 2 3 4 5]\n",
      "[ 6  7  8  9 10]\n",
      "[11 12 13 14 15]\n"
     ]
    }
   ],
   "source": [
    "for i in A:\n",
    "    print(i)"
   ]
  },
  {
   "cell_type": "code",
   "execution_count": 20,
   "id": "f4e443a0",
   "metadata": {},
   "outputs": [
    {
     "name": "stdout",
     "output_type": "stream",
     "text": [
      "iterate through the array *elementwise*. Use '.flat':\n",
      "1\n",
      "2\n",
      "3\n",
      "4\n",
      "5\n",
      "6\n",
      "7\n",
      "8\n",
      "9\n",
      "10\n",
      "11\n",
      "12\n",
      "13\n",
      "14\n",
      "15\n"
     ]
    }
   ],
   "source": [
    "print(\"iterate through the array *elementwise*. Use '.flat':\")\n",
    "for i in A.flat:\n",
    "    print(i)"
   ]
  },
  {
   "cell_type": "markdown",
   "id": "608a2583",
   "metadata": {},
   "source": [
    "### Explain what the code below does. More specifically, b has three axes - what does this mean? "
   ]
  },
  {
   "cell_type": "code",
   "execution_count": 568,
   "id": "f8f9b26f",
   "metadata": {},
   "outputs": [
    {
     "name": "stdout",
     "output_type": "stream",
     "text": [
      "[ 0  1  2  3  4  5  6  7  8  9 10 11 12 13 14 15 16 17 18 19 20 21 22 23\n",
      " 24 25 26 27 28 29]\n",
      "\n",
      "[[[ 0  1  2  3  4]\n",
      "  [ 5  6  7  8  9]\n",
      "  [10 11 12 13 14]]\n",
      "\n",
      " [[15 16 17 18 19]\n",
      "  [20 21 22 23 24]\n",
      "  [25 26 27 28 29]]]\n"
     ]
    }
   ],
   "source": [
    "a = np.arange(30)\n",
    "b = a.reshape((2, 3, -1))\n",
    "print(a)\n",
    "print()\n",
    "\n",
    "print(b)"
   ]
  },
  {
   "cell_type": "code",
   "execution_count": 22,
   "id": "863a45df",
   "metadata": {},
   "outputs": [
    {
     "name": "stdout",
     "output_type": "stream",
     "text": [
      "[ 0  1  2  3  4  5  6  7  8  9 10 11 12 13 14 15 16 17 18 19 20 21 22 23\n",
      " 24 25 26 27 28 29]\n",
      "\n",
      "[[[ 0  1  2  3  4]\n",
      "  [ 5  6  7  8  9]\n",
      "  [10 11 12 13 14]]\n",
      "\n",
      " [[15 16 17 18 19]\n",
      "  [20 21 22 23 24]\n",
      "  [25 26 27 28 29]]]\n",
      "Array b has 3 dimensions with the sahpe (2, 3, 5)\n"
     ]
    }
   ],
   "source": [
    "a = np.arange(30) ### Create a one dimensional array\n",
    "b = a.reshape((2, 3, -1)) ## 2 : size of first axes, 3 : Size of second axis, -1 calculate size of remaining axes (30 / (2*3) == 5)\n",
    "print(a)\n",
    "print()\n",
    "\n",
    "print(b)\n",
    "print(f\"Array b has {b.ndim} dimensions with the sahpe {b.shape}\")"
   ]
  },
  {
   "cell_type": "code",
   "execution_count": null,
   "id": "eed38bbb-dd20-4d23-837f-679aa3d3a067",
   "metadata": {},
   "outputs": [],
   "source": []
  },
  {
   "cell_type": "markdown",
   "id": "421c9607-819a-401d-949a-97424436fe29",
   "metadata": {},
   "source": [
    "# For the exercises below, read the document *\"matematik_yh_antonio_vektorer_matriser_utdrag\"*\n",
    "# Solutions to the exercises and recorded videos can be found here: https://github.com/AntonioPrgomet/matematik_foer_yh\n",
    "\n",
    "# If you find the exercises below very hard, do not worry. Try your best, that will be enough. "
   ]
  },
  {
   "cell_type": "markdown",
   "id": "ab5933d5",
   "metadata": {},
   "source": [
    "### Broadcasting\n",
    "**Read the following link about broadcasting: https://numpy.org/doc/stable/user/basics.broadcasting.html#basics-broadcasting**"
   ]
  },
  {
   "cell_type": "markdown",
   "id": "039805ba",
   "metadata": {},
   "source": [
    "# Remark on Broadcasting when doing Linear Algebra calculations in Python. "
   ]
  },
  {
   "cell_type": "markdown",
   "id": "c4bcc147",
   "metadata": {},
   "source": [
    "### From the mathematical rules of matrix addition, the operation below (m1 + m2) does not make sense. The reason is that matrix addition requires two matrices of the same size. In Python however, it works due to broadcasting rules in NumPy. So you must be careful when doing Linear Algebra calculations in Python since they do not follow the \"mathematical rules\". This can however easily be handled by doing some simple programming, for example validating that two matrices have the same shape is easy if you for instance want to add two matrices. "
   ]
  },
  {
   "cell_type": "code",
   "execution_count": 569,
   "id": "1fd46778",
   "metadata": {},
   "outputs": [
    {
     "name": "stdout",
     "output_type": "stream",
     "text": [
      "[[2 3]\n",
      " [4 5]]\n"
     ]
    }
   ],
   "source": [
    "m1 = np.array([[1, 2], [3, 4]])\n",
    "m2 = np.array([1, 1])\n",
    "print(m1 + m2)"
   ]
  },
  {
   "cell_type": "markdown",
   "id": "047d6576",
   "metadata": {},
   "source": [
    "### The example below would also not be allowed if following the \"mathematical rules\" in Linear Algebra. But it works due to broadcasting in NumPy. "
   ]
  },
  {
   "cell_type": "code",
   "execution_count": 570,
   "id": "5e6ef2e4",
   "metadata": {},
   "outputs": [
    {
     "name": "stdout",
     "output_type": "stream",
     "text": [
      "[2 3 4]\n"
     ]
    }
   ],
   "source": [
    "v1 = np.array([1, 2, 3])\n",
    "print(v1 + 1)"
   ]
  },
  {
   "cell_type": "code",
   "execution_count": 571,
   "id": "e2cbae26",
   "metadata": {},
   "outputs": [
    {
     "name": "stdout",
     "output_type": "stream",
     "text": [
      "[[1 2]\n",
      " [3 4]]\n",
      "[2 2]\n"
     ]
    }
   ],
   "source": [
    "A = np.arange(1, 5).reshape(2,2)\n",
    "print(A)\n",
    "\n",
    "b = np.array([2, 2])\n",
    "print(b)"
   ]
  },
  {
   "cell_type": "markdown",
   "id": "722fd5cd",
   "metadata": {},
   "source": [
    "# Vector- and matrix algebra Exercises"
   ]
  },
  {
   "cell_type": "markdown",
   "id": "b63a3081-d976-4d9f-bfd0-a63917e79f7d",
   "metadata": {},
   "source": [
    "**Now you are going to create a function that can be reused every time you add or multiply matrices. The function is created so that we do the addition and multiplication according to the rules of vector- and matrix algebra.**\n",
    "\n",
    "**Create a function \"add_mult_matrices\" that takes two matrices as input arguments (validate that the input are of the type numpy.ndarray by using the isinstance function), a third argument that is either 'add' or 'multiply' that specifies if you want to add or multiply the matrices (validate that the third argument is either 'add' or 'multiply'). When doing matrix addition, validate that the matrices have the same size. When doing matrix multiplication, validate that the sizes conform (i.e. number of columns in the first matrix is equal to the number of rows in the second matrix).**"
   ]
  },
  {
   "cell_type": "code",
   "execution_count": 26,
   "id": "3506f977-ac0a-473f-85bc-eec9f35dc498",
   "metadata": {},
   "outputs": [
    {
     "name": "stdout",
     "output_type": "stream",
     "text": [
      "#############################\n",
      "Add:\n",
      "[[ 6  8]\n",
      " [10 12]]\n",
      "#############################\n",
      "Multiply:\n",
      "[[19 22]\n",
      " [43 50]]\n"
     ]
    }
   ],
   "source": [
    "def add_mult_matrices(matrix1, matrix2, operation : str):\n",
    "    \"\"\"\n",
    "    Perform addition or multiplication of two matrices.\n",
    "    \n",
    "    Args:\n",
    "        matrix1 (numpy.ndarray): The first matrix.\n",
    "        matrix2 (numpy.ndarray): The second matrix.\n",
    "        operation (str): Either 'add' or 'multiply', specifying the operation.\n",
    "    \n",
    "    Returns:\n",
    "        numpy.ndarray: Result of the operation (addition or multiplication).\n",
    "    \n",
    "    Raises:\n",
    "        TypeError: If inputs are not of type numpy.ndarray.\n",
    "        ValueError: If operation is not 'add' or 'multiply'.\n",
    "        ValueError: If matrices have incompatible sizes for the operation.\n",
    "    \"\"\"\n",
    "    # Validate input types\n",
    "    op = operation.lower()\n",
    "    if not (isinstance(matrix1, np.ndarray) and isinstance(matrix2, np.ndarray)):\n",
    "        raise TypeError(\"Both inputs must be of type numpy.ndarray\")\n",
    "    \n",
    "    # Validate the operation\n",
    "    if op not in {'add', 'multiply'}:\n",
    "        raise ValueError(\"The operation must be either 'add' or 'multiply'\")\n",
    "    \n",
    "    # Perform addition\n",
    "    if op == 'add':\n",
    "        if matrix1.shape != matrix2.shape:\n",
    "            raise ValueError(\"For addition, matrices must have the same size\")\n",
    "        return matrix1 + matrix2\n",
    "    \n",
    "    # Perform multiplication\n",
    "    if op == 'multiply':\n",
    "        if matrix1.shape[1] != matrix2.shape[0]:\n",
    "            raise ValueError(\"For multiplication, number of columns in the first matrix must equal the number of rows in the second matrix\")\n",
    "        # return np.dot(matrix1, matrix2)\n",
    "        return matrix1 @ matrix2\n",
    "\n",
    "matrix1 = np.array([[1, 2], [3, 4]])\n",
    "matrix2 = np.array([[5, 6], [7, 8]])\n",
    "print(f\"#############################\\nAdd:\\n{add_mult_matrices(matrix1, matrix2, 'add')}\")\n",
    "print(f\"#############################\\nMultiply:\\n{add_mult_matrices(matrix1, matrix2, 'multiply')}\")"
   ]
  },
  {
   "cell_type": "markdown",
   "id": "8dad82d0-2359-4dff-8f5b-a57d3e34103c",
   "metadata": {},
   "source": [
    "### Solve all the exercises in chapter 10.1 in the book \"Matematik för yrkeshögskolan\". "
   ]
  },
  {
   "cell_type": "code",
   "execution_count": 30,
   "id": "89df88af-3668-4d98-a0a4-e6d92eea0f89",
   "metadata": {},
   "outputs": [
    {
     "name": "stdout",
     "output_type": "stream",
     "text": [
      "#############################\n",
      "10.1.1\n",
      "(a) Dimension: (2,) dimensionen är 1 x 2\n",
      "#############################\n",
      "(b) 5x: [20 15]\n",
      "#############################\n",
      "(c) 3x: [12  9]\n",
      "#############################\n",
      "(d) 5x + 3x: [32 24]\n",
      "#############################\n",
      "(e) 8x: [32 24]\n",
      "#############################\n",
      "(f) 4x - x: [12  9]\n",
      "#############################\n",
      "(g) x: [4 3]\n",
      " xT: [4 3] dimension (2,) dimensionen är 2 x 1\n",
      "#############################\n",
      "(h) x: + + xT: [8 6]\n",
      "#############################\n",
      "(i) Normen av x: 5.0\n",
      "#############################\n",
      "10.1.2\n",
      "(a) Dimension: (2,) dimensionen är 4 x 1\n",
      "#############################\n",
      "(b) 2v:\n",
      " [[ 6]\n",
      " [14]\n",
      " [ 0]\n",
      " [22]]\n",
      "#############################\n",
      "(c) 5v + 2v:\n",
      " [[21]\n",
      " [49]\n",
      " [ 0]\n",
      " [77]]\n",
      "#############################\n",
      "(c) 7v:\n",
      " [[21]\n",
      " [49]\n",
      " [ 0]\n",
      " [77]]\n",
      "#############################\n",
      "(d) 4v - 2v:\n",
      " [[ 6]\n",
      " [14]\n",
      " [ 0]\n",
      " [22]]\n",
      "#############################\n",
      "(d) 4v - 2v = 2v:\n",
      " [[ 6]\n",
      " [14]\n",
      " [ 0]\n",
      " [22]]\n",
      "#############################\n",
      "(e) vT:\n",
      " [[ 3  7  0 11]] dimensionen är (1, 4)\n",
      "#############################\n",
      "(f) Normen av v: 13.379088160259652\n",
      "#############################\n",
      "10.1.3\n",
      "(a) Normen av v1: 7.14142842854285\n",
      "#############################\n",
      "(b) Normen av v1 - v2: 4.47213595499958\n"
     ]
    }
   ],
   "source": [
    "import numpy as np\n",
    "\n",
    "x = np.array([4, 3])\n",
    "print(f\"#############################\\n10.1.1\\n(a) Dimension: {x.shape} dimensionen är 1 x 2\")\n",
    "print(f\"#############################\\n(b) 5x: {x * 5}\")\n",
    "print(f\"#############################\\n(c) 3x: {3 * x }\")\n",
    "print(f\"#############################\\n(d) 5x + 3x: {(5 * x) + (3 * x)}\")\n",
    "print(f\"#############################\\n(e) 8x: {8 * x }\")\n",
    "print(f\"#############################\\n(f) 4x - x: {(4 * x) - x}\")\n",
    "print(f\"#############################\\n(g) x: {x}\\n xT: { x.T } dimension {x.T.shape} dimensionen är 2 x 1\")\n",
    "print(f\"#############################\\n(h) x: + + xT: { x + x.T }\")\n",
    "print(f\"#############################\\n(i) Normen av x: {np.linalg.norm(x)}\")\n",
    "\n",
    "v = np.array([[3], [7], [0], [11]])\n",
    "print(f\"#############################\\n10.1.2\\n(a) Dimension: {x.shape} dimensionen är 4 x 1\")\n",
    "print(f\"#############################\\n(b) 2v:\\n {2 * v}\")\n",
    "print(f\"#############################\\n(c) 5v + 2v:\\n {(5 * v) + (2 * v)}\")\n",
    "print(f\"#############################\\n(c) 7v:\\n {(7 * v)}\")\n",
    "print(f\"#############################\\n(d) 4v - 2v:\\n {(4 * v) - (2 * v)}\")\n",
    "print(f\"#############################\\n(d) 4v - 2v = 2v:\\n {(2 * v)}\")\n",
    "print(f\"#############################\\n(e) vT:\\n {(v.T)} dimensionen är {(v.T.shape)}\")\n",
    "print(f\"#############################\\n(f) Normen av v: {np.linalg.norm(v)}\")\n",
    "\n",
    "v1 = np.array([4, 3, 1, 5])\n",
    "v2 = np.array([2, 3, 1, 1])\n",
    "print(f\"#############################\\n10.1.3\\n(a) Normen av v1: {np.linalg.norm(v1)}\")\n",
    "print(f\"#############################\\n(b) Normen av v1 - v2: {np.linalg.norm(v1 - v2)}\")\n",
    "\n",
    "\n"
   ]
  },
  {
   "cell_type": "markdown",
   "id": "75c98984-1f88-4df1-b850-d2466de444a5",
   "metadata": {},
   "source": [
    "### Solve all the exercises, except 10.2.4, in chapter 10.2 in the book \"Matematik för yrkeshögskolan\". "
   ]
  },
  {
   "cell_type": "code",
   "execution_count": 28,
   "id": "65371610-16e1-48b2-b7fb-65e49002608a",
   "metadata": {},
   "outputs": [
    {
     "name": "stdout",
     "output_type": "stream",
     "text": [
      "norm v1 [4 3 1 5] = 7.14142842854285\n",
      "norm v1 [4 3 1 5] - v2 [2 3 1 1] = 4.47213595499958\n",
      "###### Uppgift 10.2.1. ######\n",
      "(a) 2A=[[ 4  2 -2]\n",
      " [ 2 -2  2]]\n",
      "#############################\n",
      "(b) B-2A=\n",
      "[[ 0 -4  3]\n",
      " [ 0 -2 -4]]\n",
      "#############################\n",
      "(c) 3C - 2E = \n",
      "[[ 1  2]\n",
      " [ 4 -1]], inte definierad!\n",
      "#############################\n",
      "(d) 2D - 3C = \n",
      "[[3 2]\n",
      " [2 3]]\n",
      "#############################\n",
      "(e) DT + 2D = \n",
      "[[ 9 12]\n",
      " [12  9]]\n",
      "#############################\n",
      "(f) 2CT - 2DT = \n",
      "[[-4 -4]\n",
      " [-4 -4]]\n",
      "#############################\n",
      "(g) Det gick inte AT - B : operands could not be broadcast together with shapes (3,2) (2,3) \n",
      "#############################\n",
      "(h) Det gick inte AC : matmul: Input operand 1 has a mismatch in its core dimension 0, with gufunc signature (n?,k),(k,m?)->(n?,m?) (size 2 is different from 3)\n",
      "#############################\n",
      "(i) CD = \n",
      "[[11 10]\n",
      " [10 11]]\n",
      "#############################\n",
      "(j) CB = \n",
      "[[  8 -10  -3]\n",
      " [ 10  -8   0]]\n",
      "#############################\n",
      "(k) CI = \n",
      "[[1 2]\n",
      " [2 1]]\n",
      "#############################\n",
      "(l) ABT = \n",
      "[[5 2]\n",
      " [7 4]]\n",
      "###### Uppgift 10.2.2. ######\n",
      " AAT= \n",
      "[[29 26]\n",
      " [26 42]]\n",
      "###### Uppgift 10.2.3. ######\n",
      " AB= \n",
      "[[ 4  7]\n",
      " [ 8 14]]\n",
      "AC=\n",
      "[[ 4  7]\n",
      " [ 8 14]]\n",
      " B == C : [[False False]\n",
      " [False False]]\n",
      "Lösningen 10.32 första 3 ekvationerna, x är:[ 0.90322581  0.35483871 -2.12903226]\n",
      "Stämmer lösningen? True\n",
      "Sätt in x i ekvationen, ska resultera i b [ 5 -1  8] : [ 5. -1.  8.]\n",
      "3x − y + z bör bli 3. Men...= -14.67741935483871\n"
     ]
    }
   ],
   "source": [
    "import numpy as np\n",
    "\n",
    "vec = np.array([3, 7, 0, 11])\n",
    "vec.shape\n",
    "v1 = np.array([4, 3, 1 ,5])\n",
    "v2 = np.array([2, 3, 1 ,1])\n",
    "norm = np.linalg.norm(v1)\n",
    "print(f\"norm v1 {v1} = {norm}\")\n",
    "print(f\"norm v1 {v1} - v2 {v2} = {np.linalg.norm(v1 - v2)}\")\n",
    "a = np.array([[2, 1, -1], [1, -1, 1]])\n",
    "b = np.array([[4, -2, 1], [2, -4, -2]])\n",
    "c = np.array([[1, 2], [2, 1]])\n",
    "d = np.array([[3, 4], [4, 3]])\n",
    "e = np.array([1, 2])\n",
    "i = np.array([[1, 0], [0, 1]])\n",
    "\n",
    "print(f\"###### Uppgift 10.2.1. ######\\n(a) 2A={2 * a}\")\n",
    "print(f\"#############################\\n(b) B-2A=\\n{b - (2 * a)}\")\n",
    "print(f\"#############################\\n(c) 3C - 2E = \\n{(3 * c) - (2 * e)}, inte definierad!\")\n",
    "print(f\"#############################\\n(d) 2D - 3C = \\n{(2 * d) - (3 * c)}\")\n",
    "print(f\"#############################\\n(e) DT + 2D = \\n{(d.T) + (2 * d)}\")\n",
    "print(f\"#############################\\n(f) 2CT - 2DT = \\n{(2 * c.T) - (2 * d.T)}\")\n",
    "try:\n",
    "    print(f\"#############################\\n(g) AT - B = \\n{(a.T) - (b)}\")\n",
    "except Exception as e:\n",
    "    print(f\"#############################\\n(g) Det gick inte AT - B : {e}\")\n",
    "try:\n",
    "    print(f\"#############################\\n(h) AC = \\n{(a @ c)}\")  \n",
    "except Exception as e:\n",
    "    print(f\"#############################\\n(h) Det gick inte AC : {e}\")\n",
    "print(f\"#############################\\n(i) CD = \\n{(c @ d)}\") \n",
    "print(f\"#############################\\n(j) CB = \\n{(c @ b)}\") \n",
    "print(f\"#############################\\n(k) CI = \\n{(c @ i)}\") \n",
    "print(f\"#############################\\n(l) ABT = \\n{(a @ b.T)}\") \n",
    "\n",
    "A = np.array([[2, 3, 4], [5, 4, 1]])\n",
    "print(f\"###### Uppgift 10.2.2. ######\\n AAT= \\n{A @ A.T}\")\n",
    "\n",
    "A = np.array([[1, 2], [2, 4]])\n",
    "B = np.array([[2, 1], [1, 3]])\n",
    "C = np.array([[4, 3], [0, 2]])\n",
    "print(f\"###### Uppgift 10.2.3. ######\\n AB= \\n{A @ B}\\nAC=\\n{A @ C}\\n B == C : {B == C}\")\n",
    "\n",
    "A = np.array([[3, 2, 4], [2, 3, 8], [4, 1, 3], [7, 1, 5]])\n",
    "#x = np.array([x1, x2, x3, x4])\n",
    "b = np.array([5, -1, 8, 3, -6])\n",
    "\n",
    "#Exempel 10.32\n",
    "A = np.array([[2, 3, -1], [4, -1, 2], [1, 2, -3]])\n",
    "b = np.array([5, -1, 8])\n",
    "# Lös ekvationssystemet\n",
    "x = np.linalg.solve(A, b)\n",
    "print(f\"Lösningen 10.32 första 3 ekvationerna, x är:{x}\")\n",
    "\n",
    "check = np.allclose(np.dot(A, x), b)\n",
    "print(\"Stämmer lösningen?\", check)\n",
    "\n",
    "ekv4 = np.array([3, -1, 8])\n",
    "print(f\"Sätt in x i ekvationen, ska resultera i b {b} : {A @ x}\")\n",
    "print(f\"3x − y + z bör bli 3. Men...= {ekv4.T @ x}\")\n",
    "\n"
   ]
  },
  {
   "cell_type": "markdown",
   "id": "6a4a524f",
   "metadata": {},
   "source": [
    "### Copies and Views\n",
    "Read the following link: https://numpy.org/doc/stable/user/basics.copies.html"
   ]
  },
  {
   "cell_type": "markdown",
   "id": "6cbbeaf7",
   "metadata": {},
   "source": [
    "**Basic indexing creates a view, How can you check if v1 and v2 is a view or copy? If you change the last element in v2 to 123, will the last element in v1 be changed? Why?**"
   ]
  },
  {
   "cell_type": "code",
   "execution_count": 34,
   "id": "5b9ef4df",
   "metadata": {},
   "outputs": [
    {
     "name": "stdout",
     "output_type": "stream",
     "text": [
      "[0 1 2 3]\n",
      "[2 3]\n",
      "[  0   1   2 666]\n",
      "Basic indexing creates a view, How can you check if v1 and v2 is a view or copy? If you change the last element in v2 to 123, will the last element in v1 be changed? Why?\n",
      "Svar: v2 is a view since v2 is created a subset of v1. So it will be changed\n"
     ]
    }
   ],
   "source": [
    "v1 = np.arange(4)\n",
    "v2 = v1[-2:]\n",
    "print(v1)\n",
    "print(v2)\n",
    "v2[-1] = 666\n",
    "print(v1)\n",
    "print(\"Basic indexing creates a view, How can you check if v1 and v2 is a view or copy? If you change the last element in v2 to 123, will the last element in v1 be changed? Why?\")\n",
    "print(\"Svar: v2 is a view since v2 is created a subset of v1. So it will be changed\")"
   ]
  },
  {
   "cell_type": "code",
   "execution_count": 573,
   "id": "d2440489",
   "metadata": {},
   "outputs": [
    {
     "name": "stdout",
     "output_type": "stream",
     "text": [
      "None\n",
      "[0 1 2 3]\n"
     ]
    }
   ],
   "source": [
    "# The base attribute of a view returns the original array while it returns None for a copy.\n",
    "print(v1.base)\n",
    "print(v2.base)"
   ]
  },
  {
   "cell_type": "code",
   "execution_count": 574,
   "id": "c8752807",
   "metadata": {},
   "outputs": [
    {
     "name": "stdout",
     "output_type": "stream",
     "text": [
      "[  0   1   2 123]\n",
      "[  2 123]\n"
     ]
    }
   ],
   "source": [
    "# The last element in v1 will be changed aswell since v2 is a view, meaning they share the same data buffer.\n",
    "v2[-1] = 123\n",
    "print(v1)\n",
    "print(v2)"
   ]
  },
  {
   "cell_type": "code",
   "execution_count": null,
   "id": "3dd68221",
   "metadata": {},
   "outputs": [],
   "source": []
  }
 ],
 "metadata": {
  "kernelspec": {
   "display_name": "Python 3 (ipykernel)",
   "language": "python",
   "name": "python3"
  },
  "language_info": {
   "codemirror_mode": {
    "name": "ipython",
    "version": 3
   },
   "file_extension": ".py",
   "mimetype": "text/x-python",
   "name": "python",
   "nbconvert_exporter": "python",
   "pygments_lexer": "ipython3",
   "version": "3.12.7"
  }
 },
 "nbformat": 4,
 "nbformat_minor": 5
}
